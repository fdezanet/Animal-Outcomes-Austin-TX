{
 "cells": [
  {
   "cell_type": "markdown",
   "metadata": {
    "toc": true
   },
   "source": [
    "<h1>Table of Contents<span class=\"tocSkip\"></span></h1>\n",
    "<div class=\"toc\"><ul class=\"toc-item\"><li><span><a href=\"#I.-Dropping-Columns\" data-toc-modified-id=\"I.-Dropping-Columns-1\"><span class=\"toc-item-num\">1&nbsp;&nbsp;</span>I. Dropping Columns</a></span><ul class=\"toc-item\"><li><ul class=\"toc-item\"><li><span><a href=\"#monthyear\" data-toc-modified-id=\"monthyear-1.0.1\"><span class=\"toc-item-num\">1.0.1&nbsp;&nbsp;</span><code>monthyear</code></a></span></li><li><span><a href=\"#found_location\" data-toc-modified-id=\"found_location-1.0.2\"><span class=\"toc-item-num\">1.0.2&nbsp;&nbsp;</span><code>found_location</code></a></span></li><li><span><a href=\"#date_of_birth\" data-toc-modified-id=\"date_of_birth-1.0.3\"><span class=\"toc-item-num\">1.0.3&nbsp;&nbsp;</span><code>date_of_birth</code></a></span></li></ul></li></ul></li><li><span><a href=\"#II.-Dropping-Erroneous-Entries\" data-toc-modified-id=\"II.-Dropping-Erroneous-Entries-2\"><span class=\"toc-item-num\">2&nbsp;&nbsp;</span>II. Dropping Erroneous Entries</a></span></li><li><span><a href=\"#III.-Null-Values\" data-toc-modified-id=\"III.-Null-Values-3\"><span class=\"toc-item-num\">3&nbsp;&nbsp;</span>III. Null Values</a></span></li><li><span><a href=\"#IV.-Creating-Columns\" data-toc-modified-id=\"IV.-Creating-Columns-4\"><span class=\"toc-item-num\">4&nbsp;&nbsp;</span>IV. Creating Columns</a></span><ul class=\"toc-item\"><li><ul class=\"toc-item\"><li><span><a href=\"#age_upon_outcome,--age_upon_intake\" data-toc-modified-id=\"age_upon_outcome,--age_upon_intake-4.0.1\"><span class=\"toc-item-num\">4.0.1&nbsp;&nbsp;</span><code>age_upon_outcome</code>,  <code>age_upon_intake</code></a></span></li><li><span><a href=\"#is_named\" data-toc-modified-id=\"is_named-4.0.2\"><span class=\"toc-item-num\">4.0.2&nbsp;&nbsp;</span><code>is_named</code></a></span></li><li><span><a href=\"#month,-year,-day\" data-toc-modified-id=\"month,-year,-day-4.0.3\"><span class=\"toc-item-num\">4.0.3&nbsp;&nbsp;</span><code>month</code>, <code>year</code>, <code>day</code></a></span></li><li><span><a href=\"#age_range\" data-toc-modified-id=\"age_range-4.0.4\"><span class=\"toc-item-num\">4.0.4&nbsp;&nbsp;</span><code>age_range</code></a></span></li><li><span><a href=\"#sex\" data-toc-modified-id=\"sex-4.0.5\"><span class=\"toc-item-num\">4.0.5&nbsp;&nbsp;</span><code>sex</code></a></span></li><li><span><a href=\"#is_neutered\" data-toc-modified-id=\"is_neutered-4.0.6\"><span class=\"toc-item-num\">4.0.6&nbsp;&nbsp;</span><code>is_neutered</code></a></span></li><li><span><a href=\"#mix\" data-toc-modified-id=\"mix-4.0.7\"><span class=\"toc-item-num\">4.0.7&nbsp;&nbsp;</span><code>mix</code></a></span></li></ul></li></ul></li><li><span><a href=\"#V.-Dropping-Duplicate-Information\" data-toc-modified-id=\"V.-Dropping-Duplicate-Information-5\"><span class=\"toc-item-num\">5&nbsp;&nbsp;</span>V. Dropping Duplicate Information</a></span></li><li><span><a href=\"#VI.-Saving-Work\" data-toc-modified-id=\"VI.-Saving-Work-6\"><span class=\"toc-item-num\">6&nbsp;&nbsp;</span>VI. Saving Work</a></span></li></ul></div>"
   ]
  },
  {
   "cell_type": "markdown",
   "id": "211efe8f-ce5c-4ad6-9df3-9159e63104f7",
   "metadata": {},
   "source": [
    "# 01: Data Cleaning\n",
    "\n",
    "Originally gathered by the Austin Animal Center, the dataset in its initial form required attention specifically regarding rows with null values, feature datatypes, and entries with erroneous values.\n",
    "\n",
    "Cleaning began with imports and reading the primary `csv` files."
   ]
  },
  {
   "cell_type": "code",
   "execution_count": 1,
   "id": "9017eab8-bf79-46df-800a-05457807dd35",
   "metadata": {
    "ExecuteTime": {
     "end_time": "2021-08-28T15:52:09.543385Z",
     "start_time": "2021-08-28T15:52:09.219857Z"
    }
   },
   "outputs": [],
   "source": [
    "import pandas as pd\n",
    "import numpy as np"
   ]
  },
  {
   "cell_type": "code",
   "execution_count": 2,
   "id": "bac425ab-05b0-4d9e-a7b2-31f72f8600c5",
   "metadata": {
    "ExecuteTime": {
     "end_time": "2021-08-28T15:52:12.802661Z",
     "start_time": "2021-08-28T15:52:11.992607Z"
    }
   },
   "outputs": [],
   "source": [
    "outcomes = pd.read_csv('../data/Austin_Animal_Center_Outcomes.csv')\n",
    "intakes = pd.read_csv('../data/Austin_Animal_Center_Intakes.csv')"
   ]
  },
  {
   "cell_type": "markdown",
   "id": "6c2c2de9-fa53-4a25-be41-6efeb6e4f677",
   "metadata": {},
   "source": [
    "Below is brief display of the two resulting datasets collected from the Austin Animal Center website. There is a great deal of overlap between the two, with only a few columns unique to one or the other. These columns are `Age upon Intake`,`Age upon Outcome`,`Sex upon Intake`, and `Sex upon Outcome`. Likewise, the `DateTime` and `MonthYear` columns represent different timestamps; in the Outcomes dataset these columns reflect the date/time of an animal's outcome, and in the Intakes dataset these columns represent the date/time that an animal was brought to the shelter."
   ]
  },
  {
   "cell_type": "code",
   "execution_count": 3,
   "id": "589a6256-6b0f-48a6-879a-c486204853e4",
   "metadata": {
    "ExecuteTime": {
     "end_time": "2021-08-28T15:52:17.002740Z",
     "start_time": "2021-08-28T15:52:16.978735Z"
    }
   },
   "outputs": [
    {
     "data": {
      "text/html": [
       "<div>\n",
       "<style scoped>\n",
       "    .dataframe tbody tr th:only-of-type {\n",
       "        vertical-align: middle;\n",
       "    }\n",
       "\n",
       "    .dataframe tbody tr th {\n",
       "        vertical-align: top;\n",
       "    }\n",
       "\n",
       "    .dataframe thead th {\n",
       "        text-align: right;\n",
       "    }\n",
       "</style>\n",
       "<table border=\"1\" class=\"dataframe\">\n",
       "  <thead>\n",
       "    <tr style=\"text-align: right;\">\n",
       "      <th></th>\n",
       "      <th>Animal ID</th>\n",
       "      <th>Name</th>\n",
       "      <th>DateTime</th>\n",
       "      <th>MonthYear</th>\n",
       "      <th>Date of Birth</th>\n",
       "      <th>Outcome Type</th>\n",
       "      <th>Outcome Subtype</th>\n",
       "      <th>Animal Type</th>\n",
       "      <th>Sex upon Outcome</th>\n",
       "      <th>Age upon Outcome</th>\n",
       "      <th>Breed</th>\n",
       "      <th>Color</th>\n",
       "    </tr>\n",
       "  </thead>\n",
       "  <tbody>\n",
       "    <tr>\n",
       "      <th>0</th>\n",
       "      <td>A794011</td>\n",
       "      <td>Chunk</td>\n",
       "      <td>05/08/2019 06:20:00 PM</td>\n",
       "      <td>05/08/2019 06:20:00 PM</td>\n",
       "      <td>05/02/2017</td>\n",
       "      <td>Rto-Adopt</td>\n",
       "      <td>NaN</td>\n",
       "      <td>Cat</td>\n",
       "      <td>Neutered Male</td>\n",
       "      <td>2 years</td>\n",
       "      <td>Domestic Shorthair Mix</td>\n",
       "      <td>Brown Tabby/White</td>\n",
       "    </tr>\n",
       "    <tr>\n",
       "      <th>1</th>\n",
       "      <td>A776359</td>\n",
       "      <td>Gizmo</td>\n",
       "      <td>07/18/2018 04:02:00 PM</td>\n",
       "      <td>07/18/2018 04:02:00 PM</td>\n",
       "      <td>07/12/2017</td>\n",
       "      <td>Adoption</td>\n",
       "      <td>NaN</td>\n",
       "      <td>Dog</td>\n",
       "      <td>Neutered Male</td>\n",
       "      <td>1 year</td>\n",
       "      <td>Chihuahua Shorthair Mix</td>\n",
       "      <td>White/Brown</td>\n",
       "    </tr>\n",
       "    <tr>\n",
       "      <th>2</th>\n",
       "      <td>A821648</td>\n",
       "      <td>NaN</td>\n",
       "      <td>08/16/2020 11:38:00 AM</td>\n",
       "      <td>08/16/2020 11:38:00 AM</td>\n",
       "      <td>08/16/2019</td>\n",
       "      <td>Euthanasia</td>\n",
       "      <td>NaN</td>\n",
       "      <td>Other</td>\n",
       "      <td>Unknown</td>\n",
       "      <td>1 year</td>\n",
       "      <td>Raccoon</td>\n",
       "      <td>Gray</td>\n",
       "    </tr>\n",
       "    <tr>\n",
       "      <th>3</th>\n",
       "      <td>A720371</td>\n",
       "      <td>Moose</td>\n",
       "      <td>02/13/2016 05:59:00 PM</td>\n",
       "      <td>02/13/2016 05:59:00 PM</td>\n",
       "      <td>10/08/2015</td>\n",
       "      <td>Adoption</td>\n",
       "      <td>NaN</td>\n",
       "      <td>Dog</td>\n",
       "      <td>Neutered Male</td>\n",
       "      <td>4 months</td>\n",
       "      <td>Anatol Shepherd/Labrador Retriever</td>\n",
       "      <td>Buff</td>\n",
       "    </tr>\n",
       "    <tr>\n",
       "      <th>4</th>\n",
       "      <td>A674754</td>\n",
       "      <td>NaN</td>\n",
       "      <td>03/18/2014 11:47:00 AM</td>\n",
       "      <td>03/18/2014 11:47:00 AM</td>\n",
       "      <td>03/12/2014</td>\n",
       "      <td>Transfer</td>\n",
       "      <td>Partner</td>\n",
       "      <td>Cat</td>\n",
       "      <td>Intact Male</td>\n",
       "      <td>6 days</td>\n",
       "      <td>Domestic Shorthair Mix</td>\n",
       "      <td>Orange Tabby</td>\n",
       "    </tr>\n",
       "  </tbody>\n",
       "</table>\n",
       "</div>"
      ],
      "text/plain": [
       "  Animal ID   Name                DateTime               MonthYear  \\\n",
       "0   A794011  Chunk  05/08/2019 06:20:00 PM  05/08/2019 06:20:00 PM   \n",
       "1   A776359  Gizmo  07/18/2018 04:02:00 PM  07/18/2018 04:02:00 PM   \n",
       "2   A821648    NaN  08/16/2020 11:38:00 AM  08/16/2020 11:38:00 AM   \n",
       "3   A720371  Moose  02/13/2016 05:59:00 PM  02/13/2016 05:59:00 PM   \n",
       "4   A674754    NaN  03/18/2014 11:47:00 AM  03/18/2014 11:47:00 AM   \n",
       "\n",
       "  Date of Birth Outcome Type Outcome Subtype Animal Type Sex upon Outcome  \\\n",
       "0    05/02/2017    Rto-Adopt             NaN         Cat    Neutered Male   \n",
       "1    07/12/2017     Adoption             NaN         Dog    Neutered Male   \n",
       "2    08/16/2019   Euthanasia             NaN       Other          Unknown   \n",
       "3    10/08/2015     Adoption             NaN         Dog    Neutered Male   \n",
       "4    03/12/2014     Transfer         Partner         Cat      Intact Male   \n",
       "\n",
       "  Age upon Outcome                               Breed              Color  \n",
       "0          2 years              Domestic Shorthair Mix  Brown Tabby/White  \n",
       "1           1 year             Chihuahua Shorthair Mix        White/Brown  \n",
       "2           1 year                             Raccoon               Gray  \n",
       "3         4 months  Anatol Shepherd/Labrador Retriever               Buff  \n",
       "4           6 days              Domestic Shorthair Mix       Orange Tabby  "
      ]
     },
     "execution_count": 3,
     "metadata": {},
     "output_type": "execute_result"
    }
   ],
   "source": [
    "outcomes.head()"
   ]
  },
  {
   "cell_type": "code",
   "execution_count": 4,
   "id": "c726ad3e-276a-424a-a177-e384887918ec",
   "metadata": {
    "ExecuteTime": {
     "end_time": "2021-08-28T15:52:18.302351Z",
     "start_time": "2021-08-28T15:52:18.280340Z"
    }
   },
   "outputs": [
    {
     "data": {
      "text/html": [
       "<div>\n",
       "<style scoped>\n",
       "    .dataframe tbody tr th:only-of-type {\n",
       "        vertical-align: middle;\n",
       "    }\n",
       "\n",
       "    .dataframe tbody tr th {\n",
       "        vertical-align: top;\n",
       "    }\n",
       "\n",
       "    .dataframe thead th {\n",
       "        text-align: right;\n",
       "    }\n",
       "</style>\n",
       "<table border=\"1\" class=\"dataframe\">\n",
       "  <thead>\n",
       "    <tr style=\"text-align: right;\">\n",
       "      <th></th>\n",
       "      <th>Animal ID</th>\n",
       "      <th>Name</th>\n",
       "      <th>DateTime</th>\n",
       "      <th>MonthYear</th>\n",
       "      <th>Found Location</th>\n",
       "      <th>Intake Type</th>\n",
       "      <th>Intake Condition</th>\n",
       "      <th>Animal Type</th>\n",
       "      <th>Sex upon Intake</th>\n",
       "      <th>Age upon Intake</th>\n",
       "      <th>Breed</th>\n",
       "      <th>Color</th>\n",
       "    </tr>\n",
       "  </thead>\n",
       "  <tbody>\n",
       "    <tr>\n",
       "      <th>0</th>\n",
       "      <td>A786884</td>\n",
       "      <td>*Brock</td>\n",
       "      <td>01/03/2019 04:19:00 PM</td>\n",
       "      <td>01/03/2019 04:19:00 PM</td>\n",
       "      <td>2501 Magin Meadow Dr in Austin (TX)</td>\n",
       "      <td>Stray</td>\n",
       "      <td>Normal</td>\n",
       "      <td>Dog</td>\n",
       "      <td>Neutered Male</td>\n",
       "      <td>2 years</td>\n",
       "      <td>Beagle Mix</td>\n",
       "      <td>Tricolor</td>\n",
       "    </tr>\n",
       "    <tr>\n",
       "      <th>1</th>\n",
       "      <td>A706918</td>\n",
       "      <td>Belle</td>\n",
       "      <td>07/05/2015 12:59:00 PM</td>\n",
       "      <td>07/05/2015 12:59:00 PM</td>\n",
       "      <td>9409 Bluegrass Dr in Austin (TX)</td>\n",
       "      <td>Stray</td>\n",
       "      <td>Normal</td>\n",
       "      <td>Dog</td>\n",
       "      <td>Spayed Female</td>\n",
       "      <td>8 years</td>\n",
       "      <td>English Springer Spaniel</td>\n",
       "      <td>White/Liver</td>\n",
       "    </tr>\n",
       "    <tr>\n",
       "      <th>2</th>\n",
       "      <td>A724273</td>\n",
       "      <td>Runster</td>\n",
       "      <td>04/14/2016 06:43:00 PM</td>\n",
       "      <td>04/14/2016 06:43:00 PM</td>\n",
       "      <td>2818 Palomino Trail in Austin (TX)</td>\n",
       "      <td>Stray</td>\n",
       "      <td>Normal</td>\n",
       "      <td>Dog</td>\n",
       "      <td>Intact Male</td>\n",
       "      <td>11 months</td>\n",
       "      <td>Basenji Mix</td>\n",
       "      <td>Sable/White</td>\n",
       "    </tr>\n",
       "    <tr>\n",
       "      <th>3</th>\n",
       "      <td>A665644</td>\n",
       "      <td>NaN</td>\n",
       "      <td>10/21/2013 07:59:00 AM</td>\n",
       "      <td>10/21/2013 07:59:00 AM</td>\n",
       "      <td>Austin (TX)</td>\n",
       "      <td>Stray</td>\n",
       "      <td>Sick</td>\n",
       "      <td>Cat</td>\n",
       "      <td>Intact Female</td>\n",
       "      <td>4 weeks</td>\n",
       "      <td>Domestic Shorthair Mix</td>\n",
       "      <td>Calico</td>\n",
       "    </tr>\n",
       "    <tr>\n",
       "      <th>4</th>\n",
       "      <td>A682524</td>\n",
       "      <td>Rio</td>\n",
       "      <td>06/29/2014 10:38:00 AM</td>\n",
       "      <td>06/29/2014 10:38:00 AM</td>\n",
       "      <td>800 Grove Blvd in Austin (TX)</td>\n",
       "      <td>Stray</td>\n",
       "      <td>Normal</td>\n",
       "      <td>Dog</td>\n",
       "      <td>Neutered Male</td>\n",
       "      <td>4 years</td>\n",
       "      <td>Doberman Pinsch/Australian Cattle Dog</td>\n",
       "      <td>Tan/Gray</td>\n",
       "    </tr>\n",
       "  </tbody>\n",
       "</table>\n",
       "</div>"
      ],
      "text/plain": [
       "  Animal ID     Name                DateTime               MonthYear  \\\n",
       "0   A786884   *Brock  01/03/2019 04:19:00 PM  01/03/2019 04:19:00 PM   \n",
       "1   A706918    Belle  07/05/2015 12:59:00 PM  07/05/2015 12:59:00 PM   \n",
       "2   A724273  Runster  04/14/2016 06:43:00 PM  04/14/2016 06:43:00 PM   \n",
       "3   A665644      NaN  10/21/2013 07:59:00 AM  10/21/2013 07:59:00 AM   \n",
       "4   A682524      Rio  06/29/2014 10:38:00 AM  06/29/2014 10:38:00 AM   \n",
       "\n",
       "                        Found Location Intake Type Intake Condition  \\\n",
       "0  2501 Magin Meadow Dr in Austin (TX)       Stray           Normal   \n",
       "1     9409 Bluegrass Dr in Austin (TX)       Stray           Normal   \n",
       "2   2818 Palomino Trail in Austin (TX)       Stray           Normal   \n",
       "3                          Austin (TX)       Stray             Sick   \n",
       "4        800 Grove Blvd in Austin (TX)       Stray           Normal   \n",
       "\n",
       "  Animal Type Sex upon Intake Age upon Intake  \\\n",
       "0         Dog   Neutered Male         2 years   \n",
       "1         Dog   Spayed Female         8 years   \n",
       "2         Dog     Intact Male       11 months   \n",
       "3         Cat   Intact Female         4 weeks   \n",
       "4         Dog   Neutered Male         4 years   \n",
       "\n",
       "                                   Breed        Color  \n",
       "0                             Beagle Mix     Tricolor  \n",
       "1               English Springer Spaniel  White/Liver  \n",
       "2                            Basenji Mix  Sable/White  \n",
       "3                 Domestic Shorthair Mix       Calico  \n",
       "4  Doberman Pinsch/Australian Cattle Dog     Tan/Gray  "
      ]
     },
     "execution_count": 4,
     "metadata": {},
     "output_type": "execute_result"
    }
   ],
   "source": [
    "intakes.head()"
   ]
  },
  {
   "cell_type": "markdown",
   "id": "ae115eed-cf3e-440f-a07e-611dbab4fb57",
   "metadata": {},
   "source": [
    "Below, column names are converted to snake case for both datasets."
   ]
  },
  {
   "cell_type": "code",
   "execution_count": 6,
   "id": "c36bc9e4-280c-47b8-b182-72f7ffba10ee",
   "metadata": {
    "ExecuteTime": {
     "end_time": "2021-08-28T15:53:29.800141Z",
     "start_time": "2021-08-28T15:53:29.775075Z"
    }
   },
   "outputs": [],
   "source": [
    "outcomes.columns = outcomes.columns.str.lower().str.replace(' ', '_')\n",
    "intakes.columns = intakes.columns.str.lower().str.replace(' ', '_')"
   ]
  },
  {
   "cell_type": "markdown",
   "id": "baddfe53-dbb6-4fc0-b7cf-93d39b7b4ddb",
   "metadata": {},
   "source": [
    "## I. Dropping Columns"
   ]
  },
  {
   "cell_type": "code",
   "execution_count": 7,
   "id": "afed6bb0-40ff-4965-858b-57dabc4678fe",
   "metadata": {
    "ExecuteTime": {
     "end_time": "2021-08-28T15:53:31.178813Z",
     "start_time": "2021-08-28T15:53:31.171235Z"
    }
   },
   "outputs": [
    {
     "data": {
      "text/plain": [
       "Index(['animal_id', 'name', 'datetime', 'monthyear', 'date_of_birth',\n",
       "       'outcome_type', 'outcome_subtype', 'animal_type', 'sex_upon_outcome',\n",
       "       'age_upon_outcome', 'breed', 'color'],\n",
       "      dtype='object')"
      ]
     },
     "execution_count": 7,
     "metadata": {},
     "output_type": "execute_result"
    }
   ],
   "source": [
    "outcomes.columns"
   ]
  },
  {
   "cell_type": "markdown",
   "id": "c78b0970-c2a0-4df3-9fb6-bfc43745158c",
   "metadata": {},
   "source": [
    "#### `monthyear`"
   ]
  },
  {
   "cell_type": "markdown",
   "id": "f795d28b-b0dc-42e7-afb1-a02ab3f43ed1",
   "metadata": {},
   "source": [
    "The `monthyear` column is dropped from each dataset, as it is a copy of the `datetime` column."
   ]
  },
  {
   "cell_type": "code",
   "execution_count": 8,
   "id": "7832f01a-33c3-479b-b073-06b6e73ced12",
   "metadata": {
    "ExecuteTime": {
     "end_time": "2021-08-28T15:53:32.665635Z",
     "start_time": "2021-08-28T15:53:32.625009Z"
    }
   },
   "outputs": [],
   "source": [
    "outcomes.drop(columns=['monthyear'], axis = 1, inplace = True)\n",
    "intakes.drop(columns=['monthyear'], axis = 1, inplace = True)"
   ]
  },
  {
   "cell_type": "markdown",
   "id": "76f3f9d7-d7da-416b-b96e-d9d028566f9d",
   "metadata": {},
   "source": [
    "#### `found_location`"
   ]
  },
  {
   "cell_type": "code",
   "execution_count": 9,
   "id": "cf8d3da8-a28b-41ac-bb45-d4692ff80477",
   "metadata": {
    "ExecuteTime": {
     "end_time": "2021-08-28T15:53:33.785841Z",
     "start_time": "2021-08-28T15:53:33.730458Z"
    }
   },
   "outputs": [
    {
     "data": {
      "text/plain": [
       "Austin (TX)                                  24010\n",
       "Travis (TX)                                   2137\n",
       "Outside Jurisdiction                          1593\n",
       "7201 Levander Loop in Austin (TX)              897\n",
       "Manor (TX)                                     657\n",
       "                                             ...  \n",
       "Montana St And Frontera Ln in Austin (TX)        1\n",
       "403 Oertli in Austin (TX)                        1\n",
       "3000 Block Of River Rd in Travis (TX)            1\n",
       "12202 Vonquintus Rd in Austin (TX)               1\n",
       "4330 Bull Creek in Austin (TX)                   1\n",
       "Name: found_location, Length: 55484, dtype: int64"
      ]
     },
     "execution_count": 9,
     "metadata": {},
     "output_type": "execute_result"
    }
   ],
   "source": [
    "intakes['found_location'].value_counts()"
   ]
  },
  {
   "cell_type": "markdown",
   "id": "e9fe22f8-0b4b-48e3-8f0d-b6d0b49718bb",
   "metadata": {},
   "source": [
    "The `found_location` column is dropped from the Intakes dataset as it does not supply useful information."
   ]
  },
  {
   "cell_type": "code",
   "execution_count": 10,
   "id": "a3c74af4-74b0-4b04-b256-48efcf851c69",
   "metadata": {
    "ExecuteTime": {
     "end_time": "2021-08-28T15:53:36.332407Z",
     "start_time": "2021-08-28T15:53:36.307390Z"
    }
   },
   "outputs": [],
   "source": [
    "intakes.drop(columns=['found_location'], axis = 1, inplace = True)"
   ]
  },
  {
   "cell_type": "markdown",
   "id": "32bf9d9a-8872-4104-942a-14103f927ac2",
   "metadata": {},
   "source": [
    "#### `date_of_birth`"
   ]
  },
  {
   "cell_type": "markdown",
   "id": "ff0a54ae-2914-4b28-810c-f1d53fc8801b",
   "metadata": {},
   "source": [
    "The `date_of_birth` column is dropped from the Outcomes dataset, as it is less consistent than the `age_upon_outcome` column."
   ]
  },
  {
   "cell_type": "code",
   "execution_count": 11,
   "id": "f6250c16-2971-477c-be2d-9aedcb755a31",
   "metadata": {
    "ExecuteTime": {
     "end_time": "2021-08-28T15:53:38.150775Z",
     "start_time": "2021-08-28T15:53:38.126766Z"
    }
   },
   "outputs": [],
   "source": [
    "outcomes.drop(columns=['date_of_birth'], axis = 1, inplace = True)"
   ]
  },
  {
   "cell_type": "markdown",
   "id": "01944a44-166a-4b56-a579-2abba759a271",
   "metadata": {},
   "source": [
    "## II. Dropping Erroneous Entries"
   ]
  },
  {
   "cell_type": "markdown",
   "id": "19186f5a-766e-4c3d-931c-7b853a2b6931",
   "metadata": {},
   "source": [
    "Some erroneous entries in the age columns are displayed below. Due to their infrequency, they are simply hard-coded out of each dataset."
   ]
  },
  {
   "cell_type": "code",
   "execution_count": 12,
   "id": "67e4c49f-b974-46f4-8890-ee38825ea5f5",
   "metadata": {
    "ExecuteTime": {
     "end_time": "2021-08-28T15:53:40.271961Z",
     "start_time": "2021-08-28T15:53:40.248962Z"
    }
   },
   "outputs": [
    {
     "data": {
      "text/plain": [
       "array(['2 years', '1 year', '4 months', '6 days', '7 years', '2 months',\n",
       "       '2 days', '3 weeks', '9 months', '4 weeks', '2 weeks', '3 months',\n",
       "       '9 years', '10 years', '6 months', '8 years', '3 years',\n",
       "       '7 months', '6 years', '4 years', '1 month', '12 years', '5 years',\n",
       "       '1 weeks', '5 months', '5 days', '15 years', '11 months',\n",
       "       '10 months', '4 days', '16 years', '1 day', '8 months', '11 years',\n",
       "       '13 years', '1 week', '14 years', '3 days', '0 years', '5 weeks',\n",
       "       '17 years', '18 years', '20 years', '22 years', '-2 years',\n",
       "       '19 years', '23 years', '24 years', '-1 years', '25 years',\n",
       "       '21 years', '-3 years', nan], dtype=object)"
      ]
     },
     "execution_count": 12,
     "metadata": {},
     "output_type": "execute_result"
    }
   ],
   "source": [
    "outcomes['age_upon_outcome'].unique()"
   ]
  },
  {
   "cell_type": "code",
   "execution_count": 13,
   "id": "ae5521c1-b872-4832-a505-88b64c149656",
   "metadata": {
    "ExecuteTime": {
     "end_time": "2021-08-28T15:53:41.918470Z",
     "start_time": "2021-08-28T15:53:41.787431Z"
    }
   },
   "outputs": [],
   "source": [
    "outcomes = outcomes[~(outcomes['age_upon_outcome'] == '0 years')]\n",
    "outcomes = outcomes[~(outcomes['age_upon_outcome'] == '-1 years')]\n",
    "outcomes = outcomes[~(outcomes['age_upon_outcome'] == '-2 years')]\n",
    "outcomes = outcomes[~(outcomes['age_upon_outcome'] == '-3 years')]\n",
    "outcomes = outcomes[~(outcomes['age_upon_outcome'].isnull())]"
   ]
  },
  {
   "cell_type": "code",
   "execution_count": 14,
   "id": "f5ad4437-c287-43ab-bd80-96fcb95f52f7",
   "metadata": {
    "ExecuteTime": {
     "end_time": "2021-08-28T15:53:42.810688Z",
     "start_time": "2021-08-28T15:53:42.786677Z"
    }
   },
   "outputs": [
    {
     "data": {
      "text/plain": [
       "array(['2 years', '8 years', '11 months', '4 weeks', '4 years', '6 years',\n",
       "       '5 months', '14 years', '1 month', '2 months', '18 years',\n",
       "       '4 months', '1 year', '6 months', '3 years', '4 days', '1 day',\n",
       "       '5 years', '2 weeks', '15 years', '7 years', '3 weeks', '3 months',\n",
       "       '12 years', '1 week', '9 months', '10 years', '10 months',\n",
       "       '7 months', '9 years', '8 months', '1 weeks', '5 days', '2 days',\n",
       "       '11 years', '0 years', '17 years', '3 days', '13 years', '5 weeks',\n",
       "       '19 years', '6 days', '16 years', '20 years', '-1 years',\n",
       "       '22 years', '23 years', '-2 years', '21 years', '-3 years',\n",
       "       '25 years', '24 years'], dtype=object)"
      ]
     },
     "execution_count": 14,
     "metadata": {},
     "output_type": "execute_result"
    }
   ],
   "source": [
    "intakes['age_upon_intake'].unique()"
   ]
  },
  {
   "cell_type": "code",
   "execution_count": 15,
   "id": "420b2125-4264-4f8e-b7b5-7f60c8faf896",
   "metadata": {
    "ExecuteTime": {
     "end_time": "2021-08-28T15:53:45.920567Z",
     "start_time": "2021-08-28T15:53:45.787570Z"
    }
   },
   "outputs": [],
   "source": [
    "intakes = intakes[~(intakes['age_upon_intake'] == '0 years')]\n",
    "intakes = intakes[~(intakes['age_upon_intake'] == '-1 years')]\n",
    "intakes = intakes[~(intakes['age_upon_intake'] == '-2 years')]\n",
    "intakes = intakes[~(intakes['age_upon_intake'] == '-3 years')]\n",
    "intakes = intakes[~(intakes['age_upon_intake'].isnull())]"
   ]
  },
  {
   "cell_type": "markdown",
   "id": "6f5e5837-fc35-47fe-98d5-e5fecd37431e",
   "metadata": {},
   "source": [
    "## III. Null Values"
   ]
  },
  {
   "cell_type": "markdown",
   "id": "4a928ad4-98d6-40fe-ab1a-7d23321a36d5",
   "metadata": {},
   "source": [
    "For the null values in the Intakes dataset, `Nan` entries are replaced with `Unknown` in the `outcome_subtype` column, and entries with null values in the `outcome_type` column are simply dropped, as this information is essential to the modeling phase. The null values in the `name` column in both datasets will be modified later."
   ]
  },
  {
   "cell_type": "code",
   "execution_count": 16,
   "id": "a3aaa824-d589-42e0-b51c-e0e163e7bba3",
   "metadata": {
    "ExecuteTime": {
     "end_time": "2021-08-28T15:53:50.674869Z",
     "start_time": "2021-08-28T15:53:50.619869Z"
    }
   },
   "outputs": [
    {
     "data": {
      "text/plain": [
       "animal_id               0\n",
       "name                39624\n",
       "datetime                0\n",
       "intake_type             0\n",
       "intake_condition        0\n",
       "animal_type             0\n",
       "sex_upon_intake         1\n",
       "age_upon_intake         0\n",
       "breed                   0\n",
       "color                   0\n",
       "dtype: int64"
      ]
     },
     "execution_count": 16,
     "metadata": {},
     "output_type": "execute_result"
    }
   ],
   "source": [
    "intakes.isnull().sum()"
   ]
  },
  {
   "cell_type": "code",
   "execution_count": 17,
   "id": "572ac0c8-febb-4f70-bbb2-47a688d71171",
   "metadata": {
    "ExecuteTime": {
     "end_time": "2021-08-28T15:53:55.973119Z",
     "start_time": "2021-08-28T15:53:55.948076Z"
    }
   },
   "outputs": [],
   "source": [
    "intakes['sex_upon_intake'].replace(np.nan, 'Unknown', inplace = True)"
   ]
  },
  {
   "cell_type": "code",
   "execution_count": 18,
   "id": "227143c1-d97d-4c97-a135-fb956af477e6",
   "metadata": {
    "ExecuteTime": {
     "end_time": "2021-08-28T15:53:57.444681Z",
     "start_time": "2021-08-28T15:53:57.387839Z"
    }
   },
   "outputs": [
    {
     "data": {
      "text/plain": [
       "animal_id               0\n",
       "name                39951\n",
       "datetime                0\n",
       "outcome_type           23\n",
       "outcome_subtype     69923\n",
       "animal_type             0\n",
       "sex_upon_outcome        1\n",
       "age_upon_outcome        0\n",
       "breed                   0\n",
       "color                   0\n",
       "dtype: int64"
      ]
     },
     "execution_count": 18,
     "metadata": {},
     "output_type": "execute_result"
    }
   ],
   "source": [
    "outcomes.isnull().sum()"
   ]
  },
  {
   "cell_type": "markdown",
   "id": "c8c9120c-cec2-4a32-9c11-1a6651ad626c",
   "metadata": {},
   "source": [
    "For the null values in the Outcomes dataset, `Nan` entries are replaced with `Unknown` in the `outcome_subtype` column, and entries with null values in the `outcome_type` column are simply dropped, as this information is essential to the modeling phase. The null values in the `name` column in both datasets will be modified later."
   ]
  },
  {
   "cell_type": "code",
   "execution_count": 19,
   "id": "be86a75f-c370-4491-aab3-378991639c5d",
   "metadata": {
    "ExecuteTime": {
     "end_time": "2021-08-28T15:54:04.143313Z",
     "start_time": "2021-08-28T15:54:04.103740Z"
    }
   },
   "outputs": [],
   "source": [
    "outcomes = outcomes[~(outcomes['outcome_type'].isnull())]"
   ]
  },
  {
   "cell_type": "code",
   "execution_count": 20,
   "id": "b9ce917b-0fea-474c-8cb3-3c4678128ecc",
   "metadata": {
    "ExecuteTime": {
     "end_time": "2021-08-28T15:54:05.043843Z",
     "start_time": "2021-08-28T15:54:05.019761Z"
    }
   },
   "outputs": [],
   "source": [
    "outcomes['outcome_subtype'].replace(np.nan, 'Unknown', inplace = True)\n",
    "outcomes['outcome_type'].replace(np.nan, 'Unknown', inplace = True)\n",
    "outcomes['sex_upon_outcome'].replace(np.nan, 'Unknown', inplace = True)"
   ]
  },
  {
   "cell_type": "markdown",
   "id": "9271f385-021f-43bb-a10e-dcde2667d562",
   "metadata": {},
   "source": [
    "## IV. Creating Columns"
   ]
  },
  {
   "cell_type": "markdown",
   "id": "364e8b35-39d0-4406-be46-365825b1bad9",
   "metadata": {},
   "source": [
    "#### `age_upon_outcome`,  `age_upon_intake`"
   ]
  },
  {
   "cell_type": "markdown",
   "id": "ef860574-1c44-402c-a133-f953ca76c357",
   "metadata": {},
   "source": [
    "The age columns in their original form have entries on a handful of different time scales (i.e. months, weeks, days). Here a function takes in the string object of each age and converts it to years as a float datatype:"
   ]
  },
  {
   "cell_type": "code",
   "execution_count": 21,
   "id": "ea32cfa2-3acd-473e-aff8-da08feda7789",
   "metadata": {
    "ExecuteTime": {
     "end_time": "2021-08-28T15:54:10.685610Z",
     "start_time": "2021-08-28T15:54:10.678018Z"
    }
   },
   "outputs": [],
   "source": [
    "def clean_age(age):\n",
    "    \"\"\"\n",
    "        Takes a string form of age, and transforms into an a floating point number.\n",
    "    \"\"\"\n",
    "    age_f = age.split(' ')\n",
    "    if (age_f[1] == 'day' or age_f[1] == 'days'):\n",
    "        return round(float(age_f[0])/365, 3)\n",
    "    elif (age_f[1] == 'week' or age_f[1] == 'weeks'):\n",
    "        return round(float(age_f[0])/52.143, 3)\n",
    "    elif (age_f[1] == 'month' or age_f[1] == 'months'):\n",
    "        return round(float(age_f[0])/12,3)\n",
    "    else:\n",
    "        return age[0]"
   ]
  },
  {
   "cell_type": "markdown",
   "id": "9017f7fb-3025-4c55-8623-71d70449310a",
   "metadata": {},
   "source": [
    "Creating `age_upon_outcome` and `age_upon_intake` columns using the function above"
   ]
  },
  {
   "cell_type": "code",
   "execution_count": 22,
   "id": "7fbccc54-7fa3-44c6-b139-2071fc771df2",
   "metadata": {
    "ExecuteTime": {
     "end_time": "2021-08-28T15:54:12.881171Z",
     "start_time": "2021-08-28T15:54:12.497128Z"
    }
   },
   "outputs": [],
   "source": [
    "outcomes['age_upon_outcome'] = outcomes['age_upon_outcome'].apply(clean_age).astype(float)\n",
    "intakes['age_upon_intake'] = intakes['age_upon_intake'].apply(clean_age).astype(float)"
   ]
  },
  {
   "cell_type": "markdown",
   "id": "52e3ade1-7fcd-461f-855b-9d95aa60a984",
   "metadata": {},
   "source": [
    "#### `is_named`"
   ]
  },
  {
   "cell_type": "code",
   "execution_count": 23,
   "id": "ab3f3445-c3b2-4238-8e33-32215416187c",
   "metadata": {
    "ExecuteTime": {
     "end_time": "2021-08-28T15:54:16.170206Z",
     "start_time": "2021-08-28T15:54:16.147172Z"
    }
   },
   "outputs": [],
   "source": [
    "outcomes['is_named'] = outcomes['name'].notnull().astype(int)\n",
    "intakes['is_named'] = intakes['name'].notnull().astype(int)"
   ]
  },
  {
   "cell_type": "markdown",
   "id": "f48a5969-5830-4d6a-84b7-ea74296b6855",
   "metadata": {},
   "source": [
    "#### `month`, `year`, `day`"
   ]
  },
  {
   "cell_type": "markdown",
   "id": "7972ff24-91af-466a-9e1d-b277a961942f",
   "metadata": {},
   "source": [
    "The `datetime` columns are converted to the appropriate datatype. Also, columns are engineered which separate time stamp information, to experiment later and determine whether or not the specific month or year influences animal outcomes."
   ]
  },
  {
   "cell_type": "code",
   "execution_count": 24,
   "id": "c3b90934-610e-4730-a50b-a6b7abff8264",
   "metadata": {
    "ExecuteTime": {
     "end_time": "2021-08-28T15:54:53.943784Z",
     "start_time": "2021-08-28T15:54:17.739288Z"
    }
   },
   "outputs": [],
   "source": [
    "outcomes['datetime'] = pd.to_datetime(outcomes['datetime'])\n",
    "intakes['datetime'] = pd.to_datetime(intakes['datetime'])"
   ]
  },
  {
   "cell_type": "code",
   "execution_count": 25,
   "id": "9cf8f1cd-1fa8-4ea4-aa7a-acc9f82bf280",
   "metadata": {
    "ExecuteTime": {
     "end_time": "2021-08-28T15:54:59.138227Z",
     "start_time": "2021-08-28T15:54:54.010777Z"
    }
   },
   "outputs": [],
   "source": [
    "outcomes['year'] = outcomes['datetime'].apply(lambda x: x.year).astype(object)\n",
    "intakes['year'] = intakes['datetime'].apply(lambda x: x.year).astype(object)\n",
    "\n",
    "outcomes['month'] = outcomes['datetime'].apply(lambda x: x.month).astype(object)\n",
    "intakes['month'] = intakes['datetime'].apply(lambda x: x.month).astype(object)\n",
    "\n",
    "outcomes['day'] = outcomes['datetime'].apply(lambda x: x.day_name()).astype(object)\n",
    "intakes['day'] = intakes['datetime'].apply(lambda x: x.day_name()).astype(object)"
   ]
  },
  {
   "cell_type": "markdown",
   "id": "9ec862ff-faaa-4ef8-b731-f68a5538bcb9",
   "metadata": {},
   "source": [
    "#### `age_range`"
   ]
  },
  {
   "cell_type": "markdown",
   "id": "7a743a87-09e6-4da8-99ba-ac991aee7b77",
   "metadata": {},
   "source": [
    "A column to categorize an animal's age into one of five discrete ranges."
   ]
  },
  {
   "cell_type": "code",
   "execution_count": 26,
   "id": "1181560c-2cee-4cfc-b2af-fcb4113ae70d",
   "metadata": {
    "ExecuteTime": {
     "end_time": "2021-08-28T15:54:59.233275Z",
     "start_time": "2021-08-28T15:54:59.204246Z"
    }
   },
   "outputs": [],
   "source": [
    "bins = [0, 0.5, 2, 5, 8, np.inf]\n",
    "names = ['< 6 Months', '6 Months-2 Years', '2 Years-5 Years', \n",
    "         '5 Years-8 Years', '8 Years+']\n",
    "\n",
    "intakes['age_range'] = pd.cut(intakes['age_upon_intake'], bins, labels=names)\n",
    "outcomes['age_range'] = pd.cut(outcomes['age_upon_outcome'], bins, labels=names)"
   ]
  },
  {
   "cell_type": "markdown",
   "id": "25c27763-84ad-4cbb-8483-7bebee36570d",
   "metadata": {},
   "source": [
    "#### `sex`"
   ]
  },
  {
   "cell_type": "code",
   "execution_count": 29,
   "metadata": {
    "ExecuteTime": {
     "end_time": "2021-08-28T15:55:15.501124Z",
     "start_time": "2021-08-28T15:55:15.493126Z"
    }
   },
   "outputs": [
    {
     "data": {
      "text/plain": [
       "0         Neutered Male\n",
       "1         Spayed Female\n",
       "2           Intact Male\n",
       "3         Intact Female\n",
       "4         Neutered Male\n",
       "              ...      \n",
       "129672      Intact Male\n",
       "129673      Intact Male\n",
       "129674    Intact Female\n",
       "129675    Spayed Female\n",
       "129676    Neutered Male\n",
       "Name: sex_upon_intake, Length: 128838, dtype: object"
      ]
     },
     "execution_count": 29,
     "metadata": {},
     "output_type": "execute_result"
    }
   ],
   "source": [
    "intakes['sex_upon_intake']"
   ]
  },
  {
   "cell_type": "code",
   "execution_count": 30,
   "id": "54c611dc-a0ea-4b0d-9477-993a8ed4d198",
   "metadata": {
    "ExecuteTime": {
     "end_time": "2021-08-28T15:55:30.133598Z",
     "start_time": "2021-08-28T15:55:29.982575Z"
    }
   },
   "outputs": [],
   "source": [
    "intakes['sex'] = intakes['sex_upon_intake'].str.contains(\"Male\").map({True: 'Male', False:'Female'})\n",
    "outcomes['sex'] = outcomes['sex_upon_outcome'].str.contains(\"Male\").map({True: 'Male', False:'Female'})"
   ]
  },
  {
   "cell_type": "markdown",
   "id": "d9b27778-c7da-4c73-ba4c-49e7800adf06",
   "metadata": {},
   "source": [
    "#### `is_neutered`"
   ]
  },
  {
   "cell_type": "code",
   "execution_count": 31,
   "id": "f280e649-613f-4023-8007-00fa90827c2a",
   "metadata": {
    "ExecuteTime": {
     "end_time": "2021-08-28T15:55:37.286229Z",
     "start_time": "2021-08-28T15:55:36.759656Z"
    }
   },
   "outputs": [],
   "source": [
    "intakes['is_neutered'] = intakes['sex_upon_intake'].str.split(' ').str[0]\n",
    "intakes['is_neutered'] = (intakes['is_neutered'] != 'Intact').map({True: 'Neutered/Spayed', False:'Intact'})\n",
    "\n",
    "outcomes['is_neutered'] = outcomes['sex_upon_outcome'].str.split(' ').str[0]\n",
    "outcomes['is_neutered'] = (outcomes['is_neutered'] != 'Intact').map({True: 'Neutered/Spayed', False:'Intact'})"
   ]
  },
  {
   "cell_type": "markdown",
   "id": "2d1c4522-745c-4f3c-89e6-6a1ba71cc17c",
   "metadata": {},
   "source": [
    "#### `mix`"
   ]
  },
  {
   "cell_type": "code",
   "execution_count": 32,
   "id": "89cdad85-75ed-41e8-87f3-cf1d82dd05bf",
   "metadata": {
    "ExecuteTime": {
     "end_time": "2021-08-28T15:55:39.632313Z",
     "start_time": "2021-08-28T15:55:39.497305Z"
    }
   },
   "outputs": [],
   "source": [
    "intakes['mix'] = intakes['breed'].str.contains(\"Mix\").astype(int)\n",
    "outcomes['mix'] = outcomes['breed'].str.contains(\"Mix\").astype(int)"
   ]
  },
  {
   "cell_type": "markdown",
   "id": "0783add4-46e6-4c3b-86c9-2e671410f960",
   "metadata": {},
   "source": [
    "## V. Dropping Duplicate Information"
   ]
  },
  {
   "cell_type": "code",
   "execution_count": 33,
   "id": "ac92cd15-ddda-4ddc-84a7-4ceacec1995b",
   "metadata": {
    "ExecuteTime": {
     "end_time": "2021-08-28T15:55:41.543707Z",
     "start_time": "2021-08-28T15:55:41.488708Z"
    }
   },
   "outputs": [],
   "source": [
    "intakes.drop(columns='sex_upon_intake', inplace=True)"
   ]
  },
  {
   "cell_type": "code",
   "execution_count": 34,
   "id": "97a77476-4cbc-47e6-88a1-4c4b3dbd8bd0",
   "metadata": {
    "ExecuteTime": {
     "end_time": "2021-08-28T15:55:42.559359Z",
     "start_time": "2021-08-28T15:55:42.503261Z"
    }
   },
   "outputs": [],
   "source": [
    "outcomes.drop(columns='sex_upon_outcome', inplace=True)"
   ]
  },
  {
   "cell_type": "markdown",
   "id": "a2a701b7-5d98-481f-9034-54cd9082b8e0",
   "metadata": {},
   "source": [
    "## VI. Saving Work"
   ]
  },
  {
   "cell_type": "markdown",
   "id": "06fcad26-17c3-4c26-a364-88bbe7376f40",
   "metadata": {},
   "source": [
    "With initial cleaning done, datasets are written to the `datasets` folder in a more prepared form to begin EDA and feature engineering."
   ]
  },
  {
   "cell_type": "code",
   "execution_count": 35,
   "id": "501df063-35ec-46b9-9f35-4bd80b9e91fd",
   "metadata": {
    "ExecuteTime": {
     "end_time": "2021-08-28T15:55:48.883311Z",
     "start_time": "2021-08-28T15:55:46.931681Z"
    }
   },
   "outputs": [],
   "source": [
    "outcomes.to_csv('../data/outcomes_initial.csv', index=False)\n",
    "intakes.to_csv('../data/intakes_initial.csv', index=False)"
   ]
  },
  {
   "cell_type": "markdown",
   "id": "56fac2db-4c3c-4e5c-9fe2-b6edafa11e4a",
   "metadata": {},
   "source": [
    "# ***Next Notebook*** - [02: Initial EDA](https://github.com/ksylvia16/Animal-Outcomes-Austin-TX/blob/main/code/02_Initial_Eda.ipynb)"
   ]
  }
 ],
 "metadata": {
  "hide_input": false,
  "kernelspec": {
   "display_name": "Python 3",
   "language": "python",
   "name": "python3"
  },
  "language_info": {
   "codemirror_mode": {
    "name": "ipython",
    "version": 3
   },
   "file_extension": ".py",
   "mimetype": "text/x-python",
   "name": "python",
   "nbconvert_exporter": "python",
   "pygments_lexer": "ipython3",
   "version": "3.9.6"
  },
  "toc": {
   "base_numbering": 1,
   "nav_menu": {},
   "number_sections": true,
   "sideBar": true,
   "skip_h1_title": true,
   "title_cell": "Table of Contents",
   "title_sidebar": "Contents",
   "toc_cell": true,
   "toc_position": {},
   "toc_section_display": true,
   "toc_window_display": false
  },
  "varInspector": {
   "cols": {
    "lenName": 16,
    "lenType": 16,
    "lenVar": 40
   },
   "kernels_config": {
    "python": {
     "delete_cmd_postfix": "",
     "delete_cmd_prefix": "del ",
     "library": "var_list.py",
     "varRefreshCmd": "print(var_dic_list())"
    },
    "r": {
     "delete_cmd_postfix": ") ",
     "delete_cmd_prefix": "rm(",
     "library": "var_list.r",
     "varRefreshCmd": "cat(var_dic_list()) "
    }
   },
   "types_to_exclude": [
    "module",
    "function",
    "builtin_function_or_method",
    "instance",
    "_Feature"
   ],
   "window_display": false
  }
 },
 "nbformat": 4,
 "nbformat_minor": 5
}
